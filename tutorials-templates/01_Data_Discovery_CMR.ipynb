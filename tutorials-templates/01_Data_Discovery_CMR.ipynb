{
  "cells": [
    {
      "cell_type": "markdown",
      "metadata": {},
      "source": [
        "# 01. Data discovery with CMR\n",
        "\n",
        "In this tutorial you will learn:\n",
        "- what CMR is;  \n",
        "- how to use the `requests` package to search data collections and granules;  \n",
        "- how to parse the results of these searches.\n",
        "\n",
        "\n",
        "We will focus on datasets in the cloud.  Currently, DAACs with data in the cloud are 'ASF', 'GES_DISC', 'GHRC_DAAC', 'LPCLOUD', 'ORNL_CLOUD', 'POCLOUD'\n",
        "\n",
        "## What is CMR\n",
        "CMR is the Common Metadata Repository.  It catalogs all data for NASA's Earth Observing System Data and Information System (EOSDIS).  It is the backend of [Earthdata Search](https://search.earthdata.nasa.gov/search), the GUI search interface you are probably familiar with.  More information about CMR can be found [here](https://earthdata.nasa.gov/eosdis/science-system-description/eosdis-components/cmr).\n",
        "\n",
        "Unfortunately, the GUI for Earthdata Search is not accessible from a cloud instance - at least not without some work.  Earthdata Search is also not immediately reproducible.  What I mean by that is if you create a search using the GUI you would have to note the search criteria (date range, search area, collection name, etc), take a screenshot, copy the search url, or save the list of data granules returned by the search, in order to recreate the search.  This information would have to be re-entered each time you or someone else wanted to do the search.  You could make typos or other mistakes.  A cleaner, reproducible solution is to search CMR programmatically using the CMR API.\n",
        "\n",
        "## What is the CMR API\n",
        "API stands for Application Programming Interface.  It allows applications (software, services, etc) to send information to each other.  A helpful analogy is a waiter in a restaurant.  The waiter takes your drink or food order that you select from the menu, often translated into short-hand, to the bar or kitchen, and then returns (hopefully) with what you ordered when it is ready.\n",
        "\n",
        "The CMR API accepts search terms such as collection name, keywords, datetime range, and location, queries the CMR database and returns the results.\n",
        "\n",
        "\n",
        "## How to search CMR from Python\n",
        "The first step is to import python packages.  We will use:  \n",
        "- `requests` This package does most of the work for us accessing the CMR API using HTTP methods. \n",
        "- `pprint` to _pretty print_ the results of the search.  \n",
        "\n",
        "A more in depth tutorial on `requests` is [here](https://realpython.com/python-requests/)"
      ]
    },
    {
      "cell_type": "code",
      "metadata": {},
      "source": [
        "#"
      ],
      "execution_count": null,
      "outputs": []
    },
    {
      "cell_type": "markdown",
      "metadata": {},
      "source": [
        "Then we need to authenticate with EarthData Login. Since we've already set this up in the previous lesson, here you need to enter your username before executing the cell.\n",
        "\n",
        "To conduct a search using the CMR API, `requests` needs the url for the root CMR search endpoint. \n",
        "We'll build this url as a python variable."
      ]
    },
    {
      "cell_type": "code",
      "metadata": {},
      "source": [
        "#"
      ],
      "execution_count": null,
      "outputs": []
    },
    {
      "cell_type": "markdown",
      "metadata": {},
      "source": [
        "CMR allows search by __collections__, which are datasets, and __granules__, which are files that contain data.  Many of the same search parameters can be used for colections and granules but the type of results returned differ.  Search parameters can be found in the [API Documentation](https://cmr.earthdata.nasa.gov/search/site/docs/search/api.html).\n",
        "\n",
        "Whether we search __collections__ or __granules__ is distinguished by adding `\"collections\"` or `\"granules\"` to the url for the root CMR endpoint.\n",
        "\n",
        "We are going to search collections first, so we add collections to the url.  I'm using a `python` format string here."
      ]
    },
    {
      "cell_type": "code",
      "metadata": {},
      "source": [
        "#"
      ],
      "execution_count": null,
      "outputs": []
    },
    {
      "cell_type": "markdown",
      "metadata": {},
      "source": [
        "In this first example, I want to retrieve a list of collections that are hosted in the cloud.  Each collection has a `cloud_hosted` parameter that is either True if that collection is in the cloud and False if it is not.  The migration of NASA data to the cloud is a work in progress.  Not all collections tagged as `cloud_hosted` have granules.  To search for only `cloud_hosted` datasets with granules, I also set `has_granules` to `True`.\n",
        "\n",
        "I also want to get the content in `json` (pronounced \"jason\") format, so I pass a dictionary to the header keyword argument to say that I want results returned as `json`.\n",
        "\n",
        "The `.get()` method is used to send this information to the CMR API.  `get()` calls the HTTP method __GET__. "
      ]
    },
    {
      "cell_type": "code",
      "metadata": {},
      "source": [
        "#"
      ],
      "execution_count": null,
      "outputs": []
    },
    {
      "cell_type": "markdown",
      "metadata": {},
      "source": [
        "`requests` returns a `Response` object.  \n",
        "\n",
        "Often, we want to check that our request was successful.  In a notebook or someother interactive environment, we can just type the name of the variable we have saved our `requests` Response to, in this case the `response` variable."
      ]
    },
    {
      "cell_type": "code",
      "metadata": {},
      "source": [
        "#"
      ],
      "execution_count": null,
      "outputs": []
    },
    {
      "cell_type": "markdown",
      "metadata": {},
      "source": [
        "  A cleaner and more understandable method is to check the `status_code` attribute.  Both methods return a HTTP status code.  You've probably seen a 404 error when you have tried to access a website that doesn't exist."
      ]
    },
    {
      "cell_type": "code",
      "metadata": {},
      "source": [
        "#"
      ],
      "execution_count": null,
      "outputs": []
    },
    {
      "cell_type": "markdown",
      "metadata": {},
      "source": [
        "Try changing `CMR_OPS` to `https://cmr.earthdata.nasa.gov/searches` and run `requests.get` again.  __Don't forget to rerun the cell that assigns the `url` variable__\n",
        "\n",
        "\n",
        "The response from `requests.get` returns the results of the search and metadata about those results in the `headers`.  \n",
        "\n",
        "More information about the `response` object can be found by typing `help(response)`.\n",
        "\n",
        "`headers` contains useful information in a case-insensitive dictionary.  This information is printed below.\n",
        "*TODO: maybe some context for where the 2 elements k, v, come from?*"
      ]
    },
    {
      "cell_type": "code",
      "metadata": {},
      "source": [
        "#"
      ],
      "execution_count": null,
      "outputs": []
    },
    {
      "cell_type": "markdown",
      "metadata": {},
      "source": [
        "We can see that the content returned is in `json` format in the UTF-8 character set.  We can also see from `CMR-Hits` that 919 collections were found.\n",
        "\n",
        "Each item in the dictionary can be accessed in the normal way you access a `python` dictionary but because it is case-insensitive, both"
      ]
    },
    {
      "cell_type": "code",
      "metadata": {},
      "source": [
        "#"
      ],
      "execution_count": null,
      "outputs": []
    },
    {
      "cell_type": "markdown",
      "metadata": {},
      "source": [
        "and"
      ]
    },
    {
      "cell_type": "code",
      "metadata": {},
      "source": [
        "#"
      ],
      "execution_count": null,
      "outputs": []
    },
    {
      "cell_type": "markdown",
      "metadata": {},
      "source": [
        "work.\n",
        "\n",
        "This is a large number of data sets.  I'm going to restrict the search to cloud-hosted datasets from ASF (Alaska SAR Facility) because I'm interested in SAR images of sea ice.  To do this, I set the `provider` parameter to `ASF`.\n",
        "\n",
        "You can modify the code below to explore all of the cloud-hosted datasets or cloud-hosted datasets from other providers.  A partial list of providers is given below.\n",
        "\n",
        "DAAC      | Short Name                              | Cloud Provider | On-Premises Provider  \n",
        "----------|-----------------------------------------|----------------|----------------------  \n",
        "NSIDC     | National Snow and Ice Data Center       | NSIDC_CPRD     | NSIDC_ECS  \n",
        "GHRC DAAC | Global Hydrometeorology Resource Center | GHRC_DAAC      | GHRC_DAAC  \n",
        "PO DAAC   | Physical Oceanography Distributed Active Archive Center | POCLOUD | PODAAC  \n",
        "ASF       | Alaska Satellite Facility | ASF | ASF  \n",
        "ORNL DAAC | Oak Ridge National Laboratory | ORNL_CLOUD | ORNL_DAAC  \n",
        "LP DAAC   | Land Processes Distributed Active Archive Center | LPCLOUD | LPDAAC_ECS\n",
        "GES DISC  | NASA Goddard Earth Sciences (GES) Data and Information Services Center (DISC) | GES_DISC | GES_DISC\n",
        "OB DAAC   | NASA's Ocean Biology Distributed Active Archive Center |   | OB_DAAC\n",
        "SEDAC     | NASA's Socioeconomic Data and Applications Center |   | SEDAC\n",
        "\n",
        "When search by provider, use _Cloud Provider_ to search for cloud-hosted datasets and _On-Premises Provider_ to search for datasets archived at the DAACs."
      ]
    },
    {
      "cell_type": "code",
      "metadata": {},
      "source": [
        "#"
      ],
      "execution_count": null,
      "outputs": []
    },
    {
      "cell_type": "code",
      "metadata": {},
      "source": [
        "#"
      ],
      "execution_count": null,
      "outputs": []
    },
    {
      "cell_type": "markdown",
      "metadata": {},
      "source": [
        "Search results are contained in the content part of the Response object.  However, `response.content` returns information in bytes."
      ]
    },
    {
      "cell_type": "code",
      "metadata": {},
      "source": [
        "#"
      ],
      "execution_count": null,
      "outputs": []
    },
    {
      "cell_type": "markdown",
      "metadata": {},
      "source": [
        "It is more convenient to work with `json` formatted data.  I'm using pretty print `pprint` to print the data in an easy to read way.  \n",
        "\n",
        "__Step through `response.json()`, then to `response.json()['feed']['entry'][0]`__. A reminder that python starts indexing at 0, not 1!"
      ]
    },
    {
      "cell_type": "code",
      "metadata": {},
      "source": [
        "#"
      ],
      "execution_count": null,
      "outputs": []
    },
    {
      "cell_type": "markdown",
      "metadata": {},
      "source": [
        "The first response is not the result I am looking for *TODO: because xyz...but it does show a few variables that we can use to further refine the search*.  So I want to print the name of the dataset (`dataset_id`) and the concept id (`id`). We can build this variable and print statement like we did above with the `url` variable. \n",
        "*TODO: is it worth saying something about what \"feed\" and \"entry\" are?*"
      ]
    },
    {
      "cell_type": "code",
      "metadata": {},
      "source": [
        "#"
      ],
      "execution_count": null,
      "outputs": []
    },
    {
      "cell_type": "code",
      "metadata": {},
      "source": [
        "#"
      ],
      "execution_count": null,
      "outputs": []
    },
    {
      "cell_type": "markdown",
      "metadata": {},
      "source": [
        "But there is a problem.  We know from `CMR-Hits` that there are 49 datasets but only 10 are printed.  This is because CMR restricts the number of results returned by a query.  The default is 10 but it can be set to a maximum of 2000.  Knowing that there were 49 'hits', I'll set `page_size` to 49. Then, we can re-run our for loop for the collections."
      ]
    },
    {
      "cell_type": "code",
      "metadata": {},
      "source": [
        "#"
      ],
      "execution_count": null,
      "outputs": []
    },
    {
      "cell_type": "code",
      "metadata": {},
      "source": [
        "#"
      ],
      "execution_count": null,
      "outputs": []
    },
    {
      "cell_type": "markdown",
      "metadata": {},
      "source": [
        "## Granule Search\n",
        "In NASA speak, Granules are files.  In this example, we will search for recent Sentinel-1 Ground Range Detected (GRD) Medium Resolution Synthetic Aperture Radar images over the east coast of Greenland.  The data in these files are most useful for sea ice mapping.\n",
        "\n",
        "I'll use the data range 2021-10-17 00:00 to 2021-10-18 23:59:59.\n",
        "\n",
        "I'll use a simple bounding box to search.\n",
        "- SW: 76.08166,-67.1746\n",
        "- NW: 88.19689,21.04862\n",
        "\n",
        "From the collections search, I know the concept ids for Sentinel-1A and Sentinel-1B GRD medium resolution are\n",
        "- C1214472336-ASF\n",
        "- C1327985578-ASF\n",
        "\n",
        "We need to change the resource url to look for granules instead of collections"
      ]
    },
    {
      "cell_type": "code",
      "metadata": {},
      "source": [
        "#"
      ],
      "execution_count": null,
      "outputs": []
    },
    {
      "cell_type": "markdown",
      "metadata": {},
      "source": [
        "We will search by `concept_id`, `temporal`, and `bounding_box`.  Details about these search parameters can be found in the CMR API Documentation.\n",
        "\n",
        "The formatting of the values for each parameter is quite specific.  \n",
        "Temporal parameters are in ISO 8061 format `yyyy-MM-ddTHH:mm:ssZ`.  \n",
        "Bounding box coordinates are lower left longitude, lower left latitude, upper right longitude, upper right latitude. "
      ]
    },
    {
      "cell_type": "code",
      "metadata": {},
      "source": [
        "#"
      ],
      "execution_count": null,
      "outputs": []
    },
    {
      "cell_type": "code",
      "metadata": {},
      "source": [
        "#"
      ],
      "execution_count": null,
      "outputs": []
    },
    {
      "cell_type": "code",
      "metadata": {},
      "source": [
        "#"
      ],
      "execution_count": null,
      "outputs": []
    },
    {
      "cell_type": "code",
      "metadata": {},
      "source": [
        "#"
      ],
      "execution_count": null,
      "outputs": []
    }
  ],
  "metadata": {
    "kernelspec": {
      "display_name": "Python 3",
      "language": "python",
      "name": "python3"
    }
  },
  "nbformat": 4,
  "nbformat_minor": 4
}