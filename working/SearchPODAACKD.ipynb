{
 "cells": [
  {
   "cell_type": "code",
   "execution_count": 1,
   "id": "4b7f1546-bbad-4c7a-95ab-e253acb91a39",
   "metadata": {},
   "outputs": [],
   "source": [
    "import requests\n",
    "from pprint import pprint"
   ]
  },
  {
   "cell_type": "code",
   "execution_count": 2,
   "id": "93dc20df-69c6-4e9d-bd4e-704c31049277",
   "metadata": {},
   "outputs": [],
   "source": [
    "CMR_OPS = 'https://cmr.earthdata.nasa.gov/search'"
   ]
  },
  {
   "cell_type": "code",
   "execution_count": 3,
   "id": "a7a2cad9-7c6f-4399-bbb6-ffc54d5e262c",
   "metadata": {},
   "outputs": [
    {
     "name": "stdout",
     "output_type": "stream",
     "text": [
      "https://cmr.earthdata.nasa.gov/search/collections\n"
     ]
    }
   ],
   "source": [
    "url = f'{CMR_OPS}/{\"collections\"}'\n",
    "print(url)"
   ]
  },
  {
   "cell_type": "code",
   "execution_count": 4,
   "id": "e521f73a-1800-46c3-8736-8dd7cb5362bb",
   "metadata": {},
   "outputs": [],
   "source": [
    "response = requests.get(url,\n",
    "                        params={\n",
    "                            'cloud_hosted': 'True',\n",
    "                            'has_granules': 'True',\n",
    "                        },\n",
    "                        headers={\n",
    "                            'Accept': 'application/json',\n",
    "                        }\n",
    "                       )"
   ]
  },
  {
   "cell_type": "code",
   "execution_count": 5,
   "id": "4023caa8-5c73-4e2a-ae5a-3701161ddad0",
   "metadata": {},
   "outputs": [
    {
     "data": {
      "text/plain": [
       "200"
      ]
     },
     "execution_count": 5,
     "metadata": {},
     "output_type": "execute_result"
    }
   ],
   "source": [
    "response.status_code"
   ]
  },
  {
   "cell_type": "code",
   "execution_count": 7,
   "id": "f6c0d0ca-84d6-4283-ba76-e3e8113c5ab2",
   "metadata": {},
   "outputs": [
    {
     "data": {
      "text/plain": [
       "'251'"
      ]
     },
     "execution_count": 7,
     "metadata": {},
     "output_type": "execute_result"
    }
   ],
   "source": [
    "provider = 'POCLOUD'\n",
    "response = requests.get(url,\n",
    "                        params={\n",
    "                            'cloud_hosted': 'True',\n",
    "                            'has_granules': 'True',\n",
    "                            'provider': provider,\n",
    "                        },\n",
    "                        headers={\n",
    "                            'Accept': 'application/json'\n",
    "                        }\n",
    "                       )\n",
    "response.headers['cmr-hits']"
   ]
  },
  {
   "cell_type": "code",
   "execution_count": 8,
   "id": "30431481-9808-4fee-acdb-d7afaed2708a",
   "metadata": {},
   "outputs": [],
   "source": [
    "response = requests.get(url,\n",
    "                        params={\n",
    "                            'cloud_hosted': 'True',\n",
    "                            'provider': provider,\n",
    "                            'page_size': 230,\n",
    "                        },\n",
    "                        headers={\n",
    "                            'Accept': 'application/json'\n",
    "                        }\n",
    "                       )"
   ]
  },
  {
   "cell_type": "code",
   "execution_count": 9,
   "id": "8ac8d166-7053-4279-b0ec-55b88ad3e8f2",
   "metadata": {},
   "outputs": [
    {
     "name": "stdout",
     "output_type": "stream",
     "text": [
      "NASA/JPL/PODAAC Sentinel-6A MF Jason-CS L2 P4 Altimeter Low Resolution (LR) NRT Ocean Surface Topography C1968979597-POCLOUD\n",
      "NASA/JPL/PODAAC GHRSST Level 4 MUR Global Foundation Sea Surface Temperature Analysis (v4.1) C1996881146-POCLOUD\n",
      "NASA/JPL/PODAAC Sentinel-6A MF Jason-CS L2 P4 Altimeter Low Resolution (LR) STC Ocean Surface Topography C1968980609-POCLOUD\n",
      "NASA/JPL/PODAAC MetOp-A ASCAT Level 2 25.0 km Ocean Surface Wind Vectors C2075141524-POCLOUD\n",
      "NASA/JPL/PODAAC ECCO Ocean Temperature and Salinity - Monthly Mean 0.5 Degree (Version 4 Release 4) C1990404795-POCLOUD\n",
      "NASA/JPL/PODAAC Sentinel-6A MF Jason-CS L2 P4 Altimeter Low Resolution (LR) NTC Ocean Surface Topography (Unvalidated) C1968979551-POCLOUD\n",
      "NASA/JPL/PODAAC Northeast Weddell Sea Pre-SWOT Level-4 Hourly MITgcm LLC4320 Native Grid 2km Oceanographic Dataset Version 1.0 C2006849345-POCLOUD\n",
      "NASA/JPL/PODAAC GHRSST Level 2P Global Sea Surface Skin Temperature from the Moderate Resolution Imaging Spectroradiometer (MODIS) on the NASA Terra satellite (GDS2) C1940475563-POCLOUD\n",
      "NASA/JPL/PODAAC GHRSST Level 4 MUR 0.25deg Global Foundation Sea Surface Temperature Analysis (v4.2) C2036880657-POCLOUD\n",
      "NASA/JPL/PODAAC GHRSST Level 2P OSPO dataset v2.61 from VIIRS on the NOAA-20 satellite (GDS v2) C1996880450-POCLOUD\n",
      "NASA/JPL/PODAAC GHRSST NOAA/STAR GOES-16 ABI L2P America Region SST v2.70 dataset in GDS2 C2036877465-POCLOUD\n",
      "NASA/JPL/PODAAC GHRSST NOAA/STAR GOES-16 ABI  L3C America Region SST v2.70 dataset in GDS2 C2036877612-POCLOUD\n",
      "NASA/JPL/PODAAC GHRSST NOAA/STAR GOES-17 ABI L2P America Region SST v2.71 dataset in GDS2 C2036877626-POCLOUD\n",
      "NASA/JPL/PODAAC GHRSST NOAA/STAR GOES-17 ABI  L3C America Region SST v2.71 dataset in GDS2 C2036877645-POCLOUD\n",
      "NASA/JPL/PODAAC GHRSST NOAA/STAR Himawari-08 AHI L2P Pacific Ocean Region SST v2.70 dataset in GDS2 C2036877480-POCLOUD\n",
      "NASA/JPL/PODAAC GHRSST NOAA/STAR Himawari-08 AHI L3C  Pacific Ocean Region SST v2.70 dataset in GDS2 C2036877660-POCLOUD\n",
      "NASA/JPL/PODAAC Gridded Altimeter Fields with Enhanced Coastal Coverage Daily C2036882016-POCLOUD\n",
      "NASA/JPL/PODAAC GHRSST Level 2P Global Subskin Sea Surface Temperature version 8a from the Advanced Microwave Scanning Radiometer 2 on the GCOM-W satellite C2036880594-POCLOUD\n",
      "NASA/JPL/PODAAC GHRSST Level 2P Global Near-Real-Time Subskin Sea Surface Temperature version 8a from the Advanced Microwave Scanning Radiometer 2 on the GCOM-W satellite C2068529568-POCLOUD\n",
      "NASA/JPL/PODAAC GHRSST Level 3U Global Subskin Sea Surface Temperature version 8a from the Advanced Microwave Scanning Radiometer 2 on the GCOM-W satellite C2036877487-POCLOUD\n",
      "NASA/JPL/PODAAC GHRSST Level 3U Global Near-Real-Time Subskin Sea Surface Temperature version 8a from the Advanced Microwave Scanning Radiometer 2 on the GCOM-W satellite C2108869784-POCLOUD\n",
      "NASA/JPL/PODAAC MetOp-A ASCAT Level 2 Ocean Surface Wind Vectors Optimized for Coastal Ocean C1996881752-POCLOUD\n",
      "NASA/JPL/PODAAC MetOp-A ASCAT Level 2 12.5-km Ocean Surface Wind Vector Climate Data Record Optimized for Coastal Ocean C2036877686-POCLOUD\n",
      "NASA/JPL/PODAAC MetOp-B ASCAT Level 2 25.0km Ocean Surface Wind Vectors in Full Orbit Swath C2075141559-POCLOUD\n",
      "NASA/JPL/PODAAC MetOp-B ASCAT Level 2 Ocean Surface Wind Vectors Optimized for Coastal Ocean C2075141605-POCLOUD\n",
      "NASA/JPL/PODAAC MetOp-C ASCAT Level 2 25.0km Ocean Surface Wind Vectors in Full Orbit Swath C2075141638-POCLOUD\n",
      "NASA/JPL/PODAAC MetOp-C ASCAT Level 2 Ocean Surface Wind Vectors Optimized for Coastal Ocean C2075141684-POCLOUD\n",
      "NASA/JPL/PODAAC GHRSST Level 2P Global 1m Sea Surface Temperature from the Advanced Very High Resolution Radiometer (AVHRR) on the NOAA-19 satellite produced by NAVO C2036880640-POCLOUD\n",
      "NASA/JPL/PODAAC GHRSST Level 2P Regional 1m Sea Surface Temperature from the Advanced Very High Resolution Radiometer (AVHRR) on the NOAA-19 satellite produced by NAVO C2036877716-POCLOUD\n",
      "NASA/JPL/PODAAC GHRSST Level 2P Global Sea Surface Temperature v2.0 from the AVHRR on the MetOp-A satellite produced by NAVO C2036877495-POCLOUD\n",
      "NASA/JPL/PODAAC GHRSST Level 2P Global Sea Surface Temperature v2.0 from the AVHRR on the MetOp-B satellite produced by NAVO C2036877502-POCLOUD\n",
      "NASA/JPL/PODAAC GHRSST Level 2P Global Sea Surface Temperature v2.0 from the AVHRR on the MetOp-C satellite produced by NAVO C2036877509-POCLOUD\n",
      "NASA/JPL/PODAAC GHRSST Level 4 AVHRR_OI Global Blended Sea Surface Temperature Analysis (GDS2) from NCEI C2036881712-POCLOUD\n",
      "NASA/JPL/PODAAC GHRSST Level 2P sub-skin Sea Surface Temperature from the Advanced Very High Resolution Radiometer (AVHRR) on Metop satellites (currently Metop-B) (GDS V2) produced by OSI SAF C2036880717-POCLOUD\n",
      "NASA/JPL/PODAAC GHRSST L3C global sub-skin Sea Surface Temperature from the Advanced Very High Resolution Radiometer (AVHRR) on Metop satellites (currently Metop-B) (GDS V2) produced by OSI SAF C2036877693-POCLOUD\n",
      "NASA/JPL/PODAAC GHRSST Level 3C North Atlantic Regional (NAR) subskin Sea Surface Temperature from Metop/AVHRR (GDS V2) produced by OSI SAF C2036877700-POCLOUD\n",
      "NASA/JPL/PODAAC GHRSST Level 4 CMC0.1deg Global Foundation Sea Surface Temperature Analysis (GDS version 2) C2036881720-POCLOUD\n",
      "NASA/JPL/PODAAC CYGNSS Level 1 Climate Data Record Version 1.0 C1996881862-POCLOUD\n",
      "NASA/JPL/PODAAC CYGNSS Level 1 Full Delay Doppler Map Data Record C2036882030-POCLOUD\n",
      "NASA/JPL/PODAAC CYGNSS Level 1 Raw Intermediate Frequency Data Record C2036882037-POCLOUD\n",
      "NASA/JPL/PODAAC CYGNSS Level 2 Climate Data Record Version 1.0 C2036882048-POCLOUD\n",
      "NASA/JPL/PODAAC CYGNSS Level 2 Ocean Surface Heat Flux Science Data Record Version 1.0 C2036882055-POCLOUD\n",
      "NASA/JPL/PODAAC CYGNSS Level 3 Climate Data Record Version 1.0 C2036882064-POCLOUD\n",
      "NASA/JPL/PODAAC NOAA CYGNSS Level 2 Science Wind Speed 25-km Product Version 1.1 C2036882072-POCLOUD\n",
      "NASA/JPL/PODAAC GHRSST Level 4 DMI_OI Global Foundation Sea Surface Temperature Analysis  (GDS version 2) C2036881727-POCLOUD\n",
      "NASA/JPL/PODAAC ECCO Ancillary Data (Version 4 Release 4) C2096684707-POCLOUD\n",
      "NASA/JPL/PODAAC ECCO Atmosphere Surface Temperature, Humidity, Wind, and Pressure - Daily Mean 0.5 Degree (Version 4 Release 4) C1990404801-POCLOUD\n",
      "NASA/JPL/PODAAC ECCO Atmosphere Surface Temperature, Humidity, Wind, and Pressure - Monthly Mean 0.5 Degree (Version 4 Release 4) C1990404814-POCLOUD\n",
      "NASA/JPL/PODAAC ECCO Atmosphere Surface Temperature, Humidity, Wind, and Pressure - Daily Mean llc90 Grid (Version 4 Release 4) C1991543823-POCLOUD\n",
      "NASA/JPL/PODAAC ECCO Atmosphere Surface Temperature, Humidity, Wind, and Pressure - Monthly Mean llc90 Grid (Version 4 Release 4) C1991543805-POCLOUD\n",
      "NASA/JPL/PODAAC ECCO Gent-McWilliams Ocean Bolus Velocity - Daily Mean 0.5 Degree (Version 4 Release 4) C1990404807-POCLOUD\n",
      "NASA/JPL/PODAAC ECCO Gent-McWilliams Ocean Bolus Velocity - Monthly Mean 0.5 Degree (Version 4 Release 4) C1990404805-POCLOUD\n",
      "NASA/JPL/PODAAC ECCO Gent-McWilliams Ocean Bolus Velocity - Daily Mean llc90 Grid (Version 4 Release 4) C1991543824-POCLOUD\n",
      "NASA/JPL/PODAAC ECCO Gent-McWilliams Ocean Bolus Velocity - Monthly Mean llc90 Grid (Version 4 Release 4) C1991543745-POCLOUD\n",
      "NASA/JPL/PODAAC ECCO Ocean Density, Stratification, and Hydrostatic Pressure - Daily Mean 0.5 Degree (Version 4 Release 4) C1990404793-POCLOUD\n",
      "NASA/JPL/PODAAC ECCO Ocean Density, Stratification, and Hydrostatic Pressure - Monthly Mean 0.5 Degree (Version 4 Release 4) C1990404798-POCLOUD\n",
      "NASA/JPL/PODAAC ECCO Ocean Density, Stratification, and Hydrostatic Pressure - Daily Mean llc90 Grid (Version 4 Release 4) C1991543727-POCLOUD\n",
      "NASA/JPL/PODAAC ECCO Ocean Density, Stratification, and Hydrostatic Pressure - Monthly Mean llc90 Grid (Version 4 Release 4) C1991543735-POCLOUD\n",
      "NASA/JPL/PODAAC ECCO Ocean and Sea-Ice Surface Freshwater Fluxes - Daily Mean 0.5 Degree (Version 4 Release 4) C1990404818-POCLOUD\n",
      "NASA/JPL/PODAAC ECCO Ocean and Sea-Ice Surface Freshwater Fluxes - Monthly Mean 0.5 Degree (Version 4 Release 4) C1990404792-POCLOUD\n",
      "NASA/JPL/PODAAC ECCO Ocean and Sea-Ice Surface Freshwater Fluxes - Daily Mean llc90 Grid (Version 4 Release 4) C1991543820-POCLOUD\n",
      "NASA/JPL/PODAAC ECCO Ocean and Sea-Ice Surface Freshwater Fluxes - Monthly Mean llc90 Grid (Version 4 Release 4) C1991543803-POCLOUD\n",
      "NASA/JPL/PODAAC ECCO Geometry Parameters for the 0.5 degree Lat-Lon Model Grid (Version 4 Release 4) C2013583732-POCLOUD\n",
      "NASA/JPL/PODAAC ECCO Geometry Parameters for the Lat-Lon-Cap 90 (llc90) Native Model Grid (Version 4 Release 4) C2013557893-POCLOUD\n",
      "NASA/JPL/PODAAC ECCO Global Mean Atmospheric Pressure - Snapshot (Version 4 Release 4) C1991543729-POCLOUD\n",
      "NASA/JPL/PODAAC ECCO Global Mean Atmospheric Pressure - Snapshot (Version 4 Release 4b) C2133160276-POCLOUD\n",
      "NASA/JPL/PODAAC ECCO Global Mean Sea Level - Daily Mean (Version 4 Release 4) C1991543819-POCLOUD\n",
      "NASA/JPL/PODAAC ECCO Global Mean Sea Level - Monthly Mean (Version 4 Release 4) C1991543742-POCLOUD\n",
      "NASA/JPL/PODAAC ECCO Ocean and Sea-Ice Surface Heat Fluxes - Daily Mean 0.5 Degree (Version 4 Release 4) C1990404788-POCLOUD\n",
      "NASA/JPL/PODAAC ECCO Ocean and Sea-Ice Surface Heat Fluxes - Monthly Mean 0.5 Degree (Version 4 Release 4) C1990404812-POCLOUD\n",
      "NASA/JPL/PODAAC ECCO Ocean and Sea-Ice Surface Heat Fluxes - Daily Mean llc90 Grid (Version 4 Release 4) C1991543712-POCLOUD\n",
      "NASA/JPL/PODAAC ECCO Ocean and Sea-Ice Surface Heat Fluxes - Monthly Mean llc90 Grid (Version 4 Release 4) C1991543811-POCLOUD\n",
      "NASA/JPL/PODAAC ECCO Ocean Mixed Layer Depth - Daily Mean 0.5 Degree (Version 4 Release 4) C1990404810-POCLOUD\n",
      "NASA/JPL/PODAAC ECCO Ocean Mixed Layer Depth - Monthly Mean 0.5 Degree (Version 4 Release 4) C1990404819-POCLOUD\n",
      "NASA/JPL/PODAAC ECCO Ocean Mixed Layer Depth - Daily Mean llc90 Grid (Version 4 Release 4) C1991543734-POCLOUD\n",
      "NASA/JPL/PODAAC ECCO Ocean Mixed Layer Depth - Monthly Mean llc90 Grid (Version 4 Release 4) C1991543741-POCLOUD\n",
      "NASA/JPL/PODAAC ECCO Ocean Bottom Pressure - Daily Mean 0.5 Degree (Version 4 Release 4) C1990404797-POCLOUD\n",
      "NASA/JPL/PODAAC ECCO Ocean Bottom Pressure - Daily Mean 0.5 Degree (Version 4 Release 4b) C2129192243-POCLOUD\n",
      "NASA/JPL/PODAAC ECCO Ocean Bottom Pressure - Monthly Mean 0.5 Degree (Version 4 Release 4) C1990404791-POCLOUD\n",
      "NASA/JPL/PODAAC ECCO Ocean Bottom Pressure - Monthly Mean 0.5 Degree (Version 4 Release 4b) C2129193421-POCLOUD\n",
      "NASA/JPL/PODAAC ECCO Ocean Bottom Pressure - Daily Mean llc90 Grid (Version 4 Release 4) C1991543737-POCLOUD\n",
      "NASA/JPL/PODAAC ECCO Ocean Bottom Pressure - Daily Mean llc90 Grid (Version 4 Release 4b) C2129195053-POCLOUD\n",
      "NASA/JPL/PODAAC ECCO Ocean Bottom Pressure - Monthly Mean llc90 Grid (Version 4 Release 4) C1991543806-POCLOUD\n",
      "NASA/JPL/PODAAC ECCO Ocean Bottom Pressure - Monthly Mean llc90 Grid (Version 4 Release 4b) C2129197196-POCLOUD\n",
      "NASA/JPL/PODAAC ECCO Ocean Bottom Pressure - Snapshot llc90 Grid (Version 4 Release 4) C1991543804-POCLOUD\n",
      "NASA/JPL/PODAAC ECCO Ocean 3D Gent-Mcwilliams, Redi, and Background Vertical Diffusivity Coefficients for the 0.5 degree Lat-Lon Model Grid (Version 4 Release 4) C2013584708-POCLOUD\n",
      "NASA/JPL/PODAAC ECCO Ocean 3D Gent-Mcwilliams, Redi, and Background Vertical Diffusivity Coefficients for the Lat-Lon-Cap 90 (llc90) Native Model Grid (Version 4 Release 4) C2013583906-POCLOUD\n",
      "NASA/JPL/PODAAC ECCO Ocean Three-Dimensional Momentum Tendency - Daily Mean llc90 Grid (Version 4 Release 4) C1991543726-POCLOUD\n",
      "NASA/JPL/PODAAC ECCO Ocean Three-Dimensional Momentum Tendency - Monthly Mean llc90 Grid (Version 4 Release 4) C1991543702-POCLOUD\n",
      "NASA/JPL/PODAAC ECCO Ocean Three-Dimensional Salinity Fluxes - Daily Mean llc90 Grid (Version 4 Release 4) C1991543814-POCLOUD\n",
      "NASA/JPL/PODAAC ECCO Ocean Three-Dimensional Salinity Fluxes - Monthly Mean llc90 Grid (Version 4 Release 4) C1991543752-POCLOUD\n",
      "NASA/JPL/PODAAC ECCO Ocean Three-Dimensional Potential Temperature Fluxes - Daily Mean llc90 Grid (Version 4 Release 4) C1991543812-POCLOUD\n",
      "NASA/JPL/PODAAC ECCO Ocean Three-Dimensional Potential Temperature Fluxes - Monthly Mean llc90 Grid (Version 4 Release 4) C1991543740-POCLOUD\n",
      "NASA/JPL/PODAAC ECCO Ocean Three-Dimensional Volume Fluxes - Daily Mean llc90 Grid (Version 4 Release 4) C1991543699-POCLOUD\n",
      "NASA/JPL/PODAAC ECCO Ocean Three-Dimensional Volume Fluxes - Monthly Mean llc90 Grid (Version 4 Release 4) C1991543739-POCLOUD\n",
      "NASA/JPL/PODAAC ECCO Gent-McWilliams Bolus Transport Streamfunction - Daily Mean llc90 Grid (Version 4 Release 4) C1991543818-POCLOUD\n",
      "NASA/JPL/PODAAC ECCO Gent-McWilliams Bolus Transport Streamfunction - Monthly Mean llc90 Grid (Version 4 Release 4) C1991543733-POCLOUD\n",
      "NASA/JPL/PODAAC ECCO Ocean Velocity - Daily Mean 0.5 Degree (Version 4 Release 4) C1990404811-POCLOUD\n",
      "NASA/JPL/PODAAC ECCO Ocean Velocity - Monthly Mean 0.5 Degree (Version 4 Release 4) C1990404823-POCLOUD\n",
      "NASA/JPL/PODAAC ECCO Ocean Velocity - Daily Mean llc90 Grid (Version 4 Release 4) C1991543808-POCLOUD\n",
      "NASA/JPL/PODAAC ECCO Ocean Velocity - Monthly Mean llc90 Grid (Version 4 Release 4) C1991543732-POCLOUD\n",
      "NASA/JPL/PODAAC ECCO SBO Core Products - Snapshot (Version 4 Release 4) C1991543766-POCLOUD\n",
      "NASA/JPL/PODAAC ECCO SBO Core Products - Snapshot (Version 4 Release 4b) C2133162585-POCLOUD\n",
      "NASA/JPL/PODAAC ECCO Sea-Ice and Snow Concentration and Thickness - Daily Mean 0.5 Degree (Version 4 Release 4) C1990404815-POCLOUD\n",
      "NASA/JPL/PODAAC ECCO Sea-Ice and Snow Concentration and Thickness - Monthly Mean 0.5 Degree (Version 4 Release 4) C1990404820-POCLOUD\n",
      "NASA/JPL/PODAAC ECCO Sea-Ice and Snow Concentration and Thickness - Daily Mean llc90 Grid (Version 4 Release 4) C1991543763-POCLOUD\n",
      "NASA/JPL/PODAAC ECCO Sea-Ice and Snow Concentration and Thickness - Monthly Mean llc90 Grid (Version 4 Release 4) C1991543764-POCLOUD\n",
      "NASA/JPL/PODAAC ECCO Sea-Ice and Snow Concentration and Thickness - Snapshot llc90 Grid (Version 4 Release 4) C1991543821-POCLOUD\n",
      "NASA/JPL/PODAAC ECCO Sea-Ice and Snow Horizontal Volume Fluxes - Daily Mean llc90 Grid (Version 4 Release 4) C1991543731-POCLOUD\n",
      "NASA/JPL/PODAAC ECCO Sea-Ice and Snow Horizontal Volume Fluxes - Monthly Mean llc90 Grid (Version 4 Release 4) C1991543724-POCLOUD\n",
      "NASA/JPL/PODAAC ECCO Sea-Ice Salt Plume Fluxes - Daily Mean llc90 Grid (Version 4 Release 4) C1991543807-POCLOUD\n",
      "NASA/JPL/PODAAC ECCO Sea-Ice Salt Plume Fluxes - Monthly Mean llc90 Grid (Version 4 Release 4) C1991543730-POCLOUD\n",
      "NASA/JPL/PODAAC ECCO Sea-Ice Velocity - Daily Mean 0.5 Degree (Version 4 Release 4) C1990404817-POCLOUD\n",
      "NASA/JPL/PODAAC ECCO Sea-Ice Velocity - Monthly Mean 0.5 Degree (Version 4 Release 4) C1990404790-POCLOUD\n",
      "NASA/JPL/PODAAC ECCO Sea-Ice Velocity - Daily Mean llc90 Grid (Version 4 Release 4) C1991543765-POCLOUD\n",
      "NASA/JPL/PODAAC ECCO Sea-Ice Velocity - Monthly Mean llc90 Grid (Version 4 Release 4) C1991543700-POCLOUD\n",
      "NASA/JPL/PODAAC ECCO Sea-Ice Velocity - Snapshot llc90 Grid (Version 4 Release 4) C1991543768-POCLOUD\n",
      "NASA/JPL/PODAAC ECCO Sea Surface Height - Daily Mean 0.5 Degree (Version 4 Release 4) C1990404813-POCLOUD\n",
      "NASA/JPL/PODAAC ECCO Sea Surface Height - Daily Mean 0.5 Degree (Version 4 Release 4b) C2129181904-POCLOUD\n",
      "NASA/JPL/PODAAC ECCO Sea Surface Height - Monthly Mean 0.5 Degree (Version 4 Release 4) C1990404799-POCLOUD\n",
      "NASA/JPL/PODAAC ECCO Sea Surface Height - Monthly Mean 0.5 Degree (Version 4 Release 4b) C2129189405-POCLOUD\n",
      "NASA/JPL/PODAAC ECCO Sea Surface Height - Daily Mean llc90 Grid (Version 4 Release 4) C1991543744-POCLOUD\n",
      "NASA/JPL/PODAAC ECCO Sea Surface Height - Daily Mean llc90 Grid (Version 4 Release 4b) C2129186341-POCLOUD\n",
      "NASA/JPL/PODAAC ECCO Sea Surface Height - Monthly Mean llc90 Grid (Version 4 Release 4) C1991543813-POCLOUD\n",
      "NASA/JPL/PODAAC ECCO Sea Surface Height - Monthly Mean llc90 Grid (Version 4 Release 4b) C2129189870-POCLOUD\n",
      "NASA/JPL/PODAAC ECCO Sea Surface Height - Snapshot llc90 Grid (Version 4 Release 4) C1991543817-POCLOUD\n",
      "NASA/JPL/PODAAC ECCO Ocean and Sea-Ice Surface Stress - Daily Mean 0.5 Degree (Version 4 Release 4) C1990404808-POCLOUD\n",
      "NASA/JPL/PODAAC ECCO Ocean and Sea-Ice Surface Stress - Monthly Mean 0.5 Degree (Version 4 Release 4) C1990404796-POCLOUD\n",
      "NASA/JPL/PODAAC ECCO Ocean and Sea-Ice Surface Stress - Daily Mean llc90 Grid (Version 4 Release 4) C1991543704-POCLOUD\n",
      "NASA/JPL/PODAAC ECCO Ocean and Sea-Ice Surface Stress - Monthly Mean llc90 Grid (Version 4 Release 4) C1991543760-POCLOUD\n",
      "NASA/JPL/PODAAC ECCO Ocean Temperature and Salinity - Daily Mean 0.5 Degree (Version 4 Release 4) C1990404821-POCLOUD\n",
      "NASA/JPL/PODAAC ECCO Ocean Temperature and Salinity - Daily Mean llc90 Grid (Version 4 Release 4) C1991543736-POCLOUD\n",
      "NASA/JPL/PODAAC ECCO Ocean Temperature and Salinity - Monthly Mean llc90 Grid (Version 4 Release 4) C1991543728-POCLOUD\n",
      "NASA/JPL/PODAAC ECCO Ocean Temperature and Salinity - Snapshot llc90 Grid (Version 4 Release 4) C1991543757-POCLOUD\n",
      "NASA/JPL/PODAAC GHRSST Level 4 GAMSSA_28km Global Foundation Sea Surface Temperature Analysis v1.0 dataset (GDS2) C2036881735-POCLOUD\n",
      "NASA/JPL/PODAAC GHRSST Level 3U Global Subskin Sea Surface Temperature from GMI onboard GPM satellite C2036877762-POCLOUD\n",
      "NASA/JPL/PODAAC GHRSST Level 2P Central Pacific Regional Skin Sea Surface Temperature from the Geostationary Operational Environmental Satellites (GOES) Imager on the GOES-15 satellite (GDS version 2) C2036881909-POCLOUD\n",
      "NASA/JPL/PODAAC GHRSST Level 2P Global skin Sea Surface Temperature from the Infrared Atmospheric Sounding Interferometer (IASI) on the Metop-B satellite (GDS V2) produced by OSI SAF C2036877829-POCLOUD\n",
      "NASA/JPL/PODAAC Sentinel-6A MF Jason-CS L1B P4 Altimeter Low Resolution (LR) NTC Geolocated Waveforms C1968979582-POCLOUD\n",
      "NASA/JPL/PODAAC Sentinel-6A MF Jason-CS L1B P4 Altimeter Low Resolution (LR) STC Geolocated Waveforms C1968980593-POCLOUD\n",
      "NASA/JPL/PODAAC Sentinel-6A MF Jason-CS L1B GNSS-RO-POD Tracking Data Hourly C1968980589-POCLOUD\n",
      "NASA/JPL/PODAAC Sentinel-6A MF Jason-CS L2 P4 Altimeter Low Resolution (LR) NRT Reduced Ocean Surface Topography C1968980576-POCLOUD\n",
      "NASA/JPL/PODAAC Sentinel-6A MF Jason-CS L2 P4 Altimeter Low Resolution (LR) NTC Reduced Ocean Surface Topography (Unvalidated) C1968979533-POCLOUD\n",
      "NASA/JPL/PODAAC Sentinel-6A MF Jason-CS L2 P4 Altimeter Low Resolution (LR) STC Reduced Ocean Surface Topography C1968979561-POCLOUD\n",
      "NASA/JPL/PODAAC Sentinel-6A MF Jason-CS L2 Advanced Microwave Radiometer (AMR-C) NRT Geophysical Parameters C1968979997-POCLOUD\n",
      "NASA/JPL/PODAAC Sentinel-6A MF Jason-CS L2 Advanced Microwave Radiometer (AMR-C) NTC Geophysical Parameters (Unvalidated) C1968979560-POCLOUD\n",
      "NASA/JPL/PODAAC Sentinel-6A MF Jason-CS L2 Advanced Microwave Radiometer (AMR-C) STC Geophysical Parameters C1968979762-POCLOUD\n",
      "NASA/JPL/PODAAC GHRSST Level 4 K10_SST Global 10 km Analyzed Sea Surface Temperature from Naval Oceanographic Office (NAVO) in GDS2.0 C2036881956-POCLOUD\n",
      "NASA/JPL/PODAAC GHRSST NOAA/STAR ACSPO v2.80 0.02º L3S Dataset from mid-Morning LEO Satellites (GDS v2) C2050135480-POCLOUD\n",
      "NASA/JPL/PODAAC GHRSST NOAA/STAR ACSPO v2.80 0.02 degree L3S Dataset from Afternoon LEO Satellites (GDS v2) C2068704985-POCLOUD\n",
      "NASA/JPL/PODAAC Southern Ocean Pre-SWOT Level-4 Hourly MITgcm LLC4320 Native Grid 2km Oceanographic Dataset Version 1.0 C2006849995-POCLOUD\n",
      "NASA/JPL/PODAAC Bass Strait Pre-SWOT Level-4 Hourly MITgcm LLC4320 Native Grid 2km Oceanographic Dataset Version 1.0 C2006849866-POCLOUD\n",
      "NASA/JPL/PODAAC Cape Basin Pre-SWOT Level-4 Hourly MITgcm LLC4320 Native Grid 2km Oceanographic Dataset Version 1.0 C2006849794-POCLOUD\n",
      "NASA/JPL/PODAAC Labrador Sea Pre-SWOT Level-4 Hourly MITgcm LLC4320 Native Grid 2km Oceanographic Dataset Version 1.0 C2006849706-POCLOUD\n",
      "NASA/JPL/PODAAC Marmara Sea Pre-SWOT Level-4 Hourly MITgcm LLC4320 Native Grid 2km Oceanographic Dataset Version 1.0 C2006849650-POCLOUD\n",
      "NASA/JPL/PODAAC Northwest Pacific Pre-SWOT Level-4 Hourly MITgcm LLC4320 Native Grid 2km Oceanographic Dataset Version 1.0 C2006849488-POCLOUD\n",
      "NASA/JPL/PODAAC New Caledonia Pre-SWOT Level-4 Hourly MITgcm LLC4320 Native Grid 2km Oceanographic Dataset Version 1.0 C2006849571-POCLOUD\n",
      "NASA/JPL/PODAAC Rockall Trough Pre-SWOT Level-4 Hourly MITgcm LLC4320 Native Grid 2km Oceanographic Dataset Version 1.0 C2006849257-POCLOUD\n",
      "NASA/JPL/PODAAC Mediterranean Sea Pre-SWOT Level-4 Hourly MITgcm LLC4320 Native Grid 2km Oceanographic Dataset Version 1.0 C2006849087-POCLOUD\n",
      "NASA/JPL/PODAAC GHRSST Level 2P Global Sea Surface Skin Temperature from the Moderate Resolution Imaging Spectroradiometer (MODIS) on the NASA Aqua satellite (GDS2) C1940473819-POCLOUD\n",
      "NASA/JPL/PODAAC MODIS Aqua Level 3 SST MID-IR 8 Day 4km Nighttime V2019.0 C2036881966-POCLOUD\n",
      "NASA/JPL/PODAAC MODIS Aqua Level 3 SST MID-IR 8 Day 9km Nighttime V2019.0 C2036877838-POCLOUD\n",
      "NASA/JPL/PODAAC MODIS Aqua Level 3 SST MID-IR Annual 4km Nighttime V2019.0 C2036882179-POCLOUD\n",
      "NASA/JPL/PODAAC MODIS Aqua Level 3 SST MID-IR Annual 9km Nighttime V2019.0 C2036877847-POCLOUD\n",
      "NASA/JPL/PODAAC MODIS Aqua Level 3 SST MID-IR Daily 4km Nighttime V2019.0 C2036881975-POCLOUD\n",
      "NASA/JPL/PODAAC MODIS Aqua Level 3 SST MID-IR Daily 9km Nighttime V2019.0 C2036877856-POCLOUD\n",
      "NASA/JPL/PODAAC MODIS Aqua Level 3 SST MID-IR Monthly 4km Nighttime V2019.0 C2036882188-POCLOUD\n",
      "NASA/JPL/PODAAC MODIS Aqua Level 3 SST MID-IR Monthly 9km Nighttime V2019.0 C2036877865-POCLOUD\n",
      "NASA/JPL/PODAAC MODIS Aqua Level 3 SST Thermal IR 8 Day 4km Daytime V2019.0 C2036881986-POCLOUD\n",
      "NASA/JPL/PODAAC MODIS Aqua Level 3 SST Thermal IR 8 Day 4km Nighttime V2019.0 C2036881993-POCLOUD\n",
      "NASA/JPL/PODAAC MODIS Aqua Level 3 SST Thermal IR 8 Day 9km Daytime V2019.0 C2036877890-POCLOUD\n",
      "NASA/JPL/PODAAC MODIS Aqua Level 3 SST Thermal IR 8 Day 9km Nighttime V2019.0 C2036877904-POCLOUD\n",
      "NASA/JPL/PODAAC MODIS Aqua Level 3 SST Thermal IR Annual 4km Daytime V2019.0 C2036882197-POCLOUD\n",
      "NASA/JPL/PODAAC MODIS Aqua Level 3 SST Thermal IR Annual 4km Nighttime V2019.0 C2036882206-POCLOUD\n",
      "NASA/JPL/PODAAC MODIS Aqua Level 3 SST Thermal IR Annual 9km Daytime V2019.0 C2036877912-POCLOUD\n",
      "NASA/JPL/PODAAC MODIS Aqua Level 3 SST Thermal IR Annual 9km Nighttime V2019.0 C2036877920-POCLOUD\n",
      "NASA/JPL/PODAAC MODIS Aqua Level 3 SST Thermal IR  Daily 4km Daytime V2019.0 C2036880650-POCLOUD\n",
      "NASA/JPL/PODAAC MODIS Aqua Level 3 SST Thermal IR Daily 4km Nighttime V2019.0 C2036882003-POCLOUD\n",
      "NASA/JPL/PODAAC MODIS Aqua Level 3 SST Thermal IR Daily 9km Daytime V2019.0 C2036877928-POCLOUD\n",
      "NASA/JPL/PODAAC MODIS Aqua Level 3 SST Thermal IR Daily 9km Nighttime V2019.0 C2036877937-POCLOUD\n",
      "NASA/JPL/PODAAC MODIS Aqua Level 3 SST Thermal IR Monthly 4km Daytime V2019.0 C2036882228-POCLOUD\n",
      "NASA/JPL/PODAAC MODIS Aqua Level 3 SST Thermal IR Monthly 4km Nighttime V2019.0 C2036882237-POCLOUD\n",
      "NASA/JPL/PODAAC MODIS Aqua Level 3 SST Thermal IR Monthly 9km Daytime V2019.0 C2036877944-POCLOUD\n",
      "NASA/JPL/PODAAC MODIS Aqua Level 3 SST Thermal IR Monthly 9km Nighttime V2019.0 C2036877952-POCLOUD\n",
      "NASA/JPL/PODAAC MODIS Terra Level 3 SST MID-IR 8 day 4km Nighttime V2019.0 C2036882246-POCLOUD\n",
      "NASA/JPL/PODAAC MODIS Terra Level 3 SST MID-IR 8 Day 9km Nighttime V2019.0 C2036877960-POCLOUD\n",
      "NASA/JPL/PODAAC MODIS Terra Level 3 SST MID-IR Annual 4km Nighttime V2019.0 C2036882255-POCLOUD\n",
      "NASA/JPL/PODAAC MODIS Terra Level 3 SST MID-IR Annual 9km Nighttime V2019.0 C2036877972-POCLOUD\n",
      "NASA/JPL/PODAAC MODIS Terra Level 3 SST Mid-IR Daily 4km Nighttime V2019.0 C2036882265-POCLOUD\n",
      "NASA/JPL/PODAAC MODIS Terra Level 3 SST MID-IR Daily 9km Nighttime V2019.0 C2036877977-POCLOUD\n",
      "NASA/JPL/PODAAC MODIS Terra Level 3 SST MID-IR Monthly 4km Nighttime V2019.0 C2036882273-POCLOUD\n",
      "NASA/JPL/PODAAC MODIS Terra Level 3 SST MID-IR Monthly 9km Nighttime V2019.0 C2036877978-POCLOUD\n",
      "NASA/JPL/PODAAC MODIS Terra Level 3 SST Thermal IR 8 Day 4km Daytime V2019.0 C2036882282-POCLOUD\n",
      "NASA/JPL/PODAAC MODIS Terra Level 3 SST Thermal IR 8 Day 4km Nighttime V2019.0 C2036882292-POCLOUD\n",
      "NASA/JPL/PODAAC MODIS Terra Level 3 SST Thermal IR 8 Day 9km Daytime V2019.0 C2036877983-POCLOUD\n",
      "NASA/JPL/PODAAC MODIS Terra Level 3 SST Thermal IR 8 Day 9km Nighttime V2019.0 C2036877986-POCLOUD\n",
      "NASA/JPL/PODAAC MODIS Terra Level 3 SST Thermal IR Annual 4km Daytime V2019.0 C2036882301-POCLOUD\n",
      "NASA/JPL/PODAAC MODIS Terra Level 3 SST Thermal IR Annual 4km Nighttime V2019.0 C2036882310-POCLOUD\n",
      "NASA/JPL/PODAAC MODIS Terra Level 3 SST Thermal IR Annual 9km Daytime V2019.0 C2036877987-POCLOUD\n",
      "NASA/JPL/PODAAC MODIS Terra Level 3 SST Thermal IR Annual 9km Nighttime V2019.0 C2036877989-POCLOUD\n",
      "NASA/JPL/PODAAC MODIS Terra Level 3 SST Thermal IR Daily 4km Daytime V2019.0 C2036880725-POCLOUD\n",
      "NASA/JPL/PODAAC MODIS Terra Level 3 SST Thermal IR Daily 4km Nighttime V2019.0 C2036882319-POCLOUD\n",
      "NASA/JPL/PODAAC MODIS Terra  Level 3 SST Thermal IR Daily 9km Daytime V2019.0 C2036877991-POCLOUD\n",
      "NASA/JPL/PODAAC MODIS Terra Level 3 SST Thermal IR Daily 9km Nighttime V2019.0 C2036877993-POCLOUD\n",
      "NASA/JPL/PODAAC MODIS Terra Level 3 SST Thermal IR Monthly 4km Daytime V2019.0 C2036882327-POCLOUD\n",
      "NASA/JPL/PODAAC MODIS Terra Level 3 SST Thermal IR Monthly 4km Nighttime V2019.0 C2036882337-POCLOUD\n",
      "NASA/JPL/PODAAC MODIS Terra Level 3 SST Thermal IR Monthly 9km Daytime V2019.0 C2036877995-POCLOUD\n",
      "NASA/JPL/PODAAC MODIS Terra Level 3 SST Thermal IR Monthly 9km Nighttime V2019.0 C2036878004-POCLOUD\n",
      "NASA/JPL/PODAAC GHRSST Level 2P Atlantic Regional Skin Sea Surface Temperature from the Spinning Enhanced Visible and InfraRed Imager (SEVIRI) on the Meteosat Second Generation (MSG-3) satellite  (GDS version 2) C2036878029-POCLOUD\n",
      "NASA/JPL/PODAAC GHRSST Level 4 MW_IR_OI Global Foundation Sea Surface Temperature analysis version 5.0 from REMSS C2036878045-POCLOUD\n",
      "NASA/JPL/PODAAC GHRSST Level 4 MW_OI Global Foundation Sea Surface Temperature analysis version 5.0 from REMSS C2036878052-POCLOUD\n",
      "NASA/JPL/PODAAC Multi-Mission Optimally Interpolated Sea Surface Salinity Global Dataset V1 C2095055342-POCLOUD\n",
      "NASA/JPL/PODAAC Black Sea High Resolution SST L4 Analysis 0.0625 deg Resolution C2036878059-POCLOUD\n",
      "NASA/JPL/PODAAC Mediterranean Sea High Resolution SST L4 Analysis 1/16deg Resolution C2036878073-POCLOUD\n",
      "NASA/JPL/PODAAC Black Sea Ultra High Resolution SST L4 Analysis 0.01 deg Resolution C2036878081-POCLOUD\n",
      "NASA/JPL/PODAAC Mediterranean Sea Ultra High Resolution SST L4 Analysis 0.01 deg Resolution C2036878088-POCLOUD\n",
      "NASA/JPL/PODAAC Oceansat-2 Scatterometer Level 2B Ocean Wind Vectors in 12.5km Slice Composites Version 2 C2036882482-POCLOUD\n",
      "NASA/JPL/PODAAC GHRSST Level 4 OSTIA Global Foundation Sea Surface Temperature Analysis (GDS version 2) C2036877535-POCLOUD\n",
      "NASA/JPL/PODAAC Pre SWOT Hydrology GRRATS Daily River Heights and Storage Version 2 C2036882359-POCLOUD\n",
      "NASA/JPL/PODAAC Pre SWOT Hydrology GRRATS Virtual Station River Heights Version 2 C2036882009-POCLOUD\n",
      "NASA/JPL/PODAAC Pre SWOT Hydrology Global Lake/Reservoir Surface Inland Water Height GREALM V.2 C2036882366-POCLOUD\n",
      "NASA/JPL/PODAAC Pre SWOT Hydrology Global Lake/Reservoir Surface Inland Water Area Extent V2 C2036882384-POCLOUD\n",
      "NASA/JPL/PODAAC Pre SWOT Hydrology Global Lake/Reservoir Storage Time Series V2 C2036882391-POCLOUD\n",
      "NASA/JPL/PODAAC QuikSCAT Level 2B Ocean Wind Vectors in 12.5km Slice Composites Version 4.1 C2036882397-POCLOUD\n",
      "NASA/JPL/PODAAC QuikSCAT Level 2B Ocean Wind Vectors in 12.5km Slice Composites Version 3.1 C2036882492-POCLOUD\n",
      "NASA/JPL/PODAAC GHRSST Level 4 RAMSSA_9km Australian Regional Foundation Sea Surface Temperature Analysis v1.0 dataset (GDS2) C2036878103-POCLOUD\n",
      "NASA/JPL/PODAAC NOAA Smith and Reynolds Extended Reconstructed Sea Surface Temperature (ERSST) Level 4 Monthly Version 5 Dataset in netCDF C2036878116-POCLOUD\n",
      "NASA/JPL/PODAAC RapidScat Level 2B Climate Ocean Wind Vectors in 12.5km Footprints Version 2.0 C2036882499-POCLOUD\n",
      "NASA/JPL/PODAAC MEaSUREs Gridded Sea Surface Height Anomalies Version 1812 C2036880672-POCLOUD\n",
      "NASA/JPL/PODAAC GHRSST Level 3C Indian-Ocean (IO) sub-skin Sea Surface Temperature from the Spinning Enhanced Visible and Infrared Imager (SEVIRI) on MSG1 in GDS2 format produced by OSISAF C2036877550-POCLOUD\n"
     ]
    }
   ],
   "source": [
    "collections = response.json()['feed']['entry']\n",
    "for collection in collections:\n",
    "    print(f'{collection[\"archive_center\"]} {collection[\"dataset_id\"]} {collection[\"id\"]}')"
   ]
  },
  {
   "cell_type": "code",
   "execution_count": 10,
   "id": "b502e5f0-04ee-4179-a856-904ccc4a732f",
   "metadata": {},
   "outputs": [],
   "source": [
    "url = f'{CMR_OPS}/{\"granules\"}'"
   ]
  },
  {
   "cell_type": "code",
   "execution_count": 16,
   "id": "c05cbafd-aca9-468d-b493-28cff23e5dfc",
   "metadata": {},
   "outputs": [
    {
     "name": "stdout",
     "output_type": "stream",
     "text": [
      "200\n"
     ]
    }
   ],
   "source": [
    "#NASA/JPL/PODAAC GHRSST Level 4 MUR Global Foundation Sea Surface Temperature Analysis (v4.1) C1996881146-POCLOUD\n",
    "#NASA/JPL/PODAAC Sentinel-6A MF Jason-CS L2 P4 Altimeter Low Resolution (LR) NRT Ocean Surface Topography C1968979597-POCLOUD\n",
    "\n",
    "response = requests.get(url, \n",
    "                        params={\n",
    "                            'concept_id': 'C1996881146-POCLOUD',\n",
    "                            'temporal': '2011-09-01T00:00:00Z,2012-10-15T23:59:59Z',\n",
    "                            'bounding_box': '-135,30,-115,40',\n",
    "                            'page_size': 50,\n",
    "                            },\n",
    "                        headers={\n",
    "                            'Accept': 'application/json'\n",
    "                            }\n",
    "                       )\n",
    "print(response.status_code)"
   ]
  },
  {
   "cell_type": "code",
   "execution_count": 12,
   "id": "3babdadf-1152-45b8-99ff-6020afaa0dd5",
   "metadata": {},
   "outputs": [
    {
     "name": "stdout",
     "output_type": "stream",
     "text": [
      "412\n"
     ]
    }
   ],
   "source": [
    "print(response.headers['CMR-Hits'])"
   ]
  },
  {
   "cell_type": "code",
   "execution_count": 13,
   "id": "4c8379c7-93b5-44fd-acb1-12007164bedb",
   "metadata": {},
   "outputs": [
    {
     "data": {
      "text/plain": [
       "200"
      ]
     },
     "execution_count": 13,
     "metadata": {},
     "output_type": "execute_result"
    }
   ],
   "source": [
    "response.status_code"
   ]
  },
  {
   "cell_type": "code",
   "execution_count": 14,
   "id": "7df27e96-4648-49ac-9961-c20cee5e323f",
   "metadata": {},
   "outputs": [],
   "source": [
    "granules = response.json()['feed']['entry']"
   ]
  },
  {
   "cell_type": "code",
   "execution_count": 17,
   "id": "30c8631a-f49a-4f8d-a620-4cb191c56b7a",
   "metadata": {},
   "outputs": [
    {
     "data": {
      "text/plain": [
       "[{'boxes': ['-90 -180 90 180'],\n",
       "  'time_start': '2011-08-31T21:00:00.000Z',\n",
       "  'updated': '2021-03-31T09:06:25.498Z',\n",
       "  'dataset_id': 'GHRSST Level 4 MUR Global Foundation Sea Surface Temperature Analysis (v4.1)',\n",
       "  'data_center': 'POCLOUD',\n",
       "  'title': '20110901090000-JPL-L4_GHRSST-SSTfnd-MUR-GLOB-v02.0-fv04.1',\n",
       "  'coordinate_system': 'CARTESIAN',\n",
       "  'day_night_flag': 'UNSPECIFIED',\n",
       "  'time_end': '2011-09-01T21:00:00.000Z',\n",
       "  'id': 'G2028169555-POCLOUD',\n",
       "  'original_format': 'UMM_JSON',\n",
       "  'granule_size': '9.059906005859375E-5',\n",
       "  'browse_flag': False,\n",
       "  'collection_concept_id': 'C1996881146-POCLOUD',\n",
       "  'online_access_flag': True,\n",
       "  'links': [{'rel': 'http://esipfed.org/ns/fedsearch/1.1/s3#',\n",
       "    'title': 'This link provides direct download access via S3 to the granule.',\n",
       "    'hreflang': 'en-US',\n",
       "    'href': 's3://podaac-ops-cumulus-protected/MUR-JPL-L4-GLOB-v4.1/20110901090000-JPL-L4_GHRSST-SSTfnd-MUR-GLOB-v02.0-fv04.1.nc'},\n",
       "   {'rel': 'http://esipfed.org/ns/fedsearch/1.1/metadata#',\n",
       "    'title': 'Download 20110901090000-JPL-L4_GHRSST-SSTfnd-MUR-GLOB-v02.0-fv04.1.nc.md5',\n",
       "    'hreflang': 'en-US',\n",
       "    'href': 'https://archive.podaac.earthdata.nasa.gov/podaac-ops-cumulus-public/MUR-JPL-L4-GLOB-v4.1/20110901090000-JPL-L4_GHRSST-SSTfnd-MUR-GLOB-v02.0-fv04.1.nc.md5'},\n",
       "   {'rel': 'http://esipfed.org/ns/fedsearch/1.1/data#',\n",
       "    'title': 'Download 20110901090000-JPL-L4_GHRSST-SSTfnd-MUR-GLOB-v02.0-fv04.1.nc',\n",
       "    'hreflang': 'en-US',\n",
       "    'href': 'https://archive.podaac.earthdata.nasa.gov/podaac-ops-cumulus-protected/MUR-JPL-L4-GLOB-v4.1/20110901090000-JPL-L4_GHRSST-SSTfnd-MUR-GLOB-v02.0-fv04.1.nc'},\n",
       "   {'rel': 'http://esipfed.org/ns/fedsearch/1.1/metadata#',\n",
       "    'title': 'Download 20110901090000-JPL-L4_GHRSST-SSTfnd-MUR-GLOB-v02.0-fv04.1.cmr.json',\n",
       "    'hreflang': 'en-US',\n",
       "    'href': 'https://archive.podaac.earthdata.nasa.gov/podaac-ops-cumulus-public/MUR-JPL-L4-GLOB-v4.1/20110901090000-JPL-L4_GHRSST-SSTfnd-MUR-GLOB-v02.0-fv04.1.cmr.json'},\n",
       "   {'rel': 'http://esipfed.org/ns/fedsearch/1.1/metadata#',\n",
       "    'title': 'api endpoint to retrieve temporary credentials valid for same-region direct s3 access',\n",
       "    'hreflang': 'en-US',\n",
       "    'href': 'https://archive.podaac.earthdata.nasa.gov/s3credentials'},\n",
       "   {'rel': 'http://esipfed.org/ns/fedsearch/1.1/service#',\n",
       "    'title': 'OPeNDAP request URL',\n",
       "    'hreflang': 'en-US',\n",
       "    'href': 'https://opendap.earthdata.nasa.gov/providers/POCLOUD/collections/GHRSST%20Level%204%20MUR%20Global%20Foundation%20Sea%20Surface%20Temperature%20Analysis%20(v4.1)/granules/20110901090000-JPL-L4_GHRSST-SSTfnd-MUR-GLOB-v02.0-fv04.1'},\n",
       "   {'inherited': True,\n",
       "    'rel': 'http://esipfed.org/ns/fedsearch/1.1/documentation#',\n",
       "    'hreflang': 'en-US',\n",
       "    'href': 'https://github.com/nasa/podaac_tools_and_services/tree/master/subset_opendap'},\n",
       "   {'inherited': True,\n",
       "    'rel': 'http://esipfed.org/ns/fedsearch/1.1/documentation#',\n",
       "    'hreflang': 'en-US',\n",
       "    'href': 'https://ghrsst.jpl.nasa.gov'},\n",
       "   {'inherited': True,\n",
       "    'rel': 'http://esipfed.org/ns/fedsearch/1.1/metadata#',\n",
       "    'hreflang': 'en-US',\n",
       "    'href': 'https://earthdata.nasa.gov/esds/competitive-programs/measures/mur-sst'},\n",
       "   {'inherited': True,\n",
       "    'rel': 'http://esipfed.org/ns/fedsearch/1.1/documentation#',\n",
       "    'hreflang': 'en-US',\n",
       "    'href': 'http://journals.ametsoc.org/doi/abs/10.1175/1520-0426%281998%29015%3C0741:BSHWSS%3E2.0.CO;2'},\n",
       "   {'inherited': True,\n",
       "    'rel': 'http://esipfed.org/ns/fedsearch/1.1/documentation#',\n",
       "    'hreflang': 'en-US',\n",
       "    'href': 'https://podaac-tools.jpl.nasa.gov/drive/files/OceanTemperature/ghrsst/docs/GDS20r5.pdf'},\n",
       "   {'inherited': True,\n",
       "    'rel': 'http://esipfed.org/ns/fedsearch/1.1/documentation#',\n",
       "    'hreflang': 'en-US',\n",
       "    'href': 'https://github.com/podaac/data-readers'},\n",
       "   {'inherited': True,\n",
       "    'rel': 'http://esipfed.org/ns/fedsearch/1.1/documentation#',\n",
       "    'hreflang': 'en-US',\n",
       "    'href': 'https://doi.org/10.1016/j.rse.2017.07.029'},\n",
       "   {'inherited': True,\n",
       "    'rel': 'http://esipfed.org/ns/fedsearch/1.1/metadata#',\n",
       "    'hreflang': 'en-US',\n",
       "    'href': 'https://registry.opendata.aws/mur/#usageexa'},\n",
       "   {'inherited': True,\n",
       "    'rel': 'http://esipfed.org/ns/fedsearch/1.1/documentation#',\n",
       "    'hreflang': 'en-US',\n",
       "    'href': 'http://www.ghrsst.org'},\n",
       "   {'inherited': True,\n",
       "    'rel': 'http://esipfed.org/ns/fedsearch/1.1/documentation#',\n",
       "    'hreflang': 'en-US',\n",
       "    'href': 'https://podaac.jpl.nasa.gov/CitingPODAAC'},\n",
       "   {'inherited': True,\n",
       "    'length': '300.0MB',\n",
       "    'rel': 'http://esipfed.org/ns/fedsearch/1.1/data#',\n",
       "    'hreflang': 'en-US',\n",
       "    'href': 'https://cmr.earthdata.nasa.gov/virtual-directory/collections/C1996881146-POCLOUD '},\n",
       "   {'inherited': True,\n",
       "    'length': '700.0MB',\n",
       "    'rel': 'http://esipfed.org/ns/fedsearch/1.1/data#',\n",
       "    'hreflang': 'en-US',\n",
       "    'href': ' https://search.earthdata.nasa.gov/search/granules?p=C1996881146-POCLOUD '},\n",
       "   {'inherited': True,\n",
       "    'rel': 'http://esipfed.org/ns/fedsearch/1.1/documentation#',\n",
       "    'hreflang': 'en-US',\n",
       "    'href': 'https://podaac.jpl.nasa.gov/MEaSUREs-MUR'},\n",
       "   {'inherited': True,\n",
       "    'rel': 'http://esipfed.org/ns/fedsearch/1.1/documentation#',\n",
       "    'hreflang': 'en-US',\n",
       "    'href': 'https://github.com/podaac/tutorials/blob/master/notebooks/SWOT-EA-2021/Colocate_satellite_insitu_ocean.ipynb'}]}]"
      ]
     },
     "execution_count": 17,
     "metadata": {},
     "output_type": "execute_result"
    }
   ],
   "source": [
    "# pprint(granules)\n",
    "granules[0:1]"
   ]
  },
  {
   "cell_type": "code",
   "execution_count": null,
   "id": "f24c2af9-fb6c-4476-982b-c5e5bef687e2",
   "metadata": {},
   "outputs": [],
   "source": []
  }
 ],
 "metadata": {
  "kernelspec": {
   "display_name": "Python 3 (ipykernel)",
   "language": "python",
   "name": "python3"
  },
  "language_info": {
   "codemirror_mode": {
    "name": "ipython",
    "version": 3
   },
   "file_extension": ".py",
   "mimetype": "text/x-python",
   "name": "python",
   "nbconvert_exporter": "python",
   "pygments_lexer": "ipython3",
   "version": "3.9.7"
  }
 },
 "nbformat": 4,
 "nbformat_minor": 5
}
