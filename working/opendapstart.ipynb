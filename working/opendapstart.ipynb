{
 "cells": [
  {
   "cell_type": "code",
   "execution_count": 1,
   "id": "998ce0d0-acc2-46b3-944a-d67200782567",
   "metadata": {},
   "outputs": [],
   "source": [
    "from netCDF4 import Dataset\n",
    "import xarray as xr\n",
    "import dask\n",
    "import os\n",
    "import requests\n",
    "\n",
    "\n",
    "#Allows us to visualize the dask progress for parallel operations\n",
    "from dask.diagnostics import ProgressBar\n",
    "ProgressBar().register()"
   ]
  },
  {
   "cell_type": "code",
   "execution_count": 2,
   "id": "f8fb9aca-215d-4cad-8571-eaf995ef6922",
   "metadata": {},
   "outputs": [],
   "source": [
    "import urllib\n",
    "from urllib import request\n",
    "from http.cookiejar import CookieJar\n",
    "import json\n",
    "from urllib import request, parse\n",
    "from http.cookiejar import CookieJar\n",
    "import getpass\n",
    "import netrc\n",
    "\n",
    "\n",
    "\n",
    "def get_token( url: str,client_id: str, user_ip: str,endpoint: str) -> str:\n",
    "    try:\n",
    "        username, _, password = netrc.netrc().authenticators(endpoint)\n",
    "        token: str = ''\n",
    "        xml: str = \"\"\"<?xml version='1.0' encoding='utf-8'?>\n",
    "        <token><username>{}</username><password>{}</password><client_id>{}</client_id>\n",
    "        <user_ip_address>{}</user_ip_address></token>\"\"\".format(username, password, client_id, user_ip)\n",
    "        headers: Dict = {'Content-Type': 'application/xml','Accept': 'application/json'}\n",
    "        resp = requests.post(url, headers=headers, data=xml)\n",
    "        response_content: Dict = json.loads(resp.content)\n",
    "        token = response_content['token']['id']\n",
    "    except:\n",
    "        print(\"Error getting the token - check user name and password\")\n",
    "    return token\n",
    "\n",
    "def setup_earthdata_login_auth(endpoint):\n",
    "    \"\"\"\n",
    "    Set up the request library so that it authenticates against the given Earthdata Login\n",
    "    endpoint and is able to track cookies between requests.  This looks in the .netrc file\n",
    "    first and if no credentials are found, it prompts for them.\n",
    "    Valid endpoints include:\n",
    "        urs.earthdata.nasa.gov - Earthdata Login production\n",
    "    \"\"\"\n",
    "    try:\n",
    "        username, _, password = netrc.netrc().authenticators(endpoint)\n",
    "    except (FileNotFoundError, TypeError):\n",
    "        # FileNotFound = There's no .netrc file\n",
    "        # TypeError = The endpoint isn't in the netrc file, causing the above to try unpacking None\n",
    "        print('Please provide your Earthdata Login credentials to allow data access')\n",
    "        print('Your credentials will only be passed to %s and will not be exposed in Jupyter' % (endpoint))\n",
    "        username = input('Username:')\n",
    "        password = getpass.getpass()\n",
    "\n",
    "    \n",
    "    manager = request.HTTPPasswordMgrWithDefaultRealm()\n",
    "    manager.add_password(None, endpoint, username, password)\n",
    "    auth = request.HTTPBasicAuthHandler(manager)\n",
    "\n",
    "    jar = CookieJar()\n",
    "    processor = request.HTTPCookieProcessor(jar)\n",
    "    opener = request.build_opener(auth, processor)\n",
    "    request.install_opener(opener)\n",
    "\n",
    "edl=\"urs.earthdata.nasa.gov\"\n",
    "cmr=\"cmr.earthdata.nasa.gov\"\n",
    "\n",
    "setup_earthdata_login_auth(edl)\n",
    "token_url=\"https://\"+cmr+\"/legacy-services/rest/tokens\"\n",
    "token=get_token(token_url,'podaac-subscriber', \"127.0.0.1\",edl)"
   ]
  },
  {
   "cell_type": "code",
   "execution_count": 6,
   "id": "2028f74c-caf9-44de-9927-46f12e6b85b2",
   "metadata": {},
   "outputs": [],
   "source": [
    "r = requests.get('https://cmr.earthdata.nasa.gov/search/granules.umm_json?collection_concept_id=C1968979597-POCLOUD&temporal=2021-11-01T10:00:00Z,2021-11-02T00:00:00Z&pageSize=365&token='+ token)\n",
    "response_body = r.json()"
   ]
  },
  {
   "cell_type": "code",
   "execution_count": 7,
   "id": "4c45c3d7-cb1f-4763-837d-020852f32350",
   "metadata": {},
   "outputs": [
    {
     "data": {
      "text/plain": [
       "['https://opendap.earthdata.nasa.gov/collections/C1968979597-POCLOUD/granules/S6A_P4_2__LR_STD__NR_036_043_20211101T093621_20211101T111451_F03',\n",
       " 'https://opendap.earthdata.nasa.gov/collections/C1968979597-POCLOUD/granules/S6A_P4_2__LR_STD__NR_036_045_20211101T111451_20211101T130809_F03',\n",
       " 'https://opendap.earthdata.nasa.gov/collections/C1968979597-POCLOUD/granules/S6A_P4_2__LR_STD__NR_036_047_20211101T130809_20211101T150357_F03',\n",
       " 'https://opendap.earthdata.nasa.gov/collections/C1968979597-POCLOUD/granules/S6A_P4_2__LR_STD__NR_036_049_20211101T150357_20211101T170013_F03',\n",
       " 'https://opendap.earthdata.nasa.gov/collections/C1968979597-POCLOUD/granules/S6A_P4_2__LR_STD__NR_036_051_20211101T170013_20211101T185611_F03',\n",
       " 'https://opendap.earthdata.nasa.gov/collections/C1968979597-POCLOUD/granules/S6A_P4_2__LR_STD__NR_036_053_20211101T185611_20211101T205202_F03',\n",
       " 'https://opendap.earthdata.nasa.gov/collections/C1968979597-POCLOUD/granules/S6A_P4_2__LR_STD__NR_036_056_20211101T205202_20211101T223040_F03',\n",
       " 'https://opendap.earthdata.nasa.gov/collections/C1968979597-POCLOUD/granules/S6A_P4_2__LR_STD__NR_036_057_20211101T223040_20211102T002212_F03']"
      ]
     },
     "execution_count": 7,
     "metadata": {},
     "output_type": "execute_result"
    }
   ],
   "source": [
    "od_files = []\n",
    "for itm in response_body['items']:\n",
    "    for urls in itm['umm']['RelatedUrls']:\n",
    "        if 'OPeNDAP' in urls['Description']:\n",
    "            od_files.append(urls['URL'])\n",
    "\n",
    "od_files\n",
    "        "
   ]
  },
  {
   "cell_type": "code",
   "execution_count": 8,
   "id": "de34daaf-93ba-4b4d-945d-6f41f3703c83",
   "metadata": {},
   "outputs": [
    {
     "data": {
      "text/plain": [
       "8"
      ]
     },
     "execution_count": 8,
     "metadata": {},
     "output_type": "execute_result"
    }
   ],
   "source": [
    "len(od_files)"
   ]
  },
  {
   "cell_type": "code",
   "execution_count": 10,
   "id": "0ec19782-f97c-43a2-a54e-aae48e6e833d",
   "metadata": {},
   "outputs": [
    {
     "name": "stdout",
     "output_type": "stream",
     "text": [
      "https://opendap.earthdata.nasa.gov/collections/C1968979597-POCLOUD/granules/S6A_P4_2__LR_STD__NR_036_043_20211101T093621_20211101T111451_F03\n",
      "https://opendap.earthdata.nasa.gov/collections/C1968979597-POCLOUD/granules/S6A_P4_2__LR_STD__NR_036_045_20211101T111451_20211101T130809_F03\n",
      "https://opendap.earthdata.nasa.gov/collections/C1968979597-POCLOUD/granules/S6A_P4_2__LR_STD__NR_036_047_20211101T130809_20211101T150357_F03\n",
      "https://opendap.earthdata.nasa.gov/collections/C1968979597-POCLOUD/granules/S6A_P4_2__LR_STD__NR_036_049_20211101T150357_20211101T170013_F03\n",
      "https://opendap.earthdata.nasa.gov/collections/C1968979597-POCLOUD/granules/S6A_P4_2__LR_STD__NR_036_051_20211101T170013_20211101T185611_F03\n",
      "https://opendap.earthdata.nasa.gov/collections/C1968979597-POCLOUD/granules/S6A_P4_2__LR_STD__NR_036_053_20211101T185611_20211101T205202_F03\n",
      "https://opendap.earthdata.nasa.gov/collections/C1968979597-POCLOUD/granules/S6A_P4_2__LR_STD__NR_036_056_20211101T205202_20211101T223040_F03\n",
      "https://opendap.earthdata.nasa.gov/collections/C1968979597-POCLOUD/granules/S6A_P4_2__LR_STD__NR_036_057_20211101T223040_20211102T002212_F03\n"
     ]
    }
   ],
   "source": [
    "for f in od_files:\n",
    "    print (f)\n",
    "    data_url = f'{f}.dap.nc4'\n",
    "    \n",
    "    \n",
    "    "
   ]
  },
  {
   "cell_type": "code",
   "execution_count": 12,
   "id": "5328e378-d7df-4c7e-85cc-949fcc5225b0",
   "metadata": {},
   "outputs": [
    {
     "data": {
      "text/plain": [
       "'https://opendap.earthdata.nasa.gov/collections/C1968979597-POCLOUD/granules/S6A_P4_2__LR_STD__NR_036_057_20211101T223040_20211102T002212_F03.dap.nc4'"
      ]
     },
     "execution_count": 12,
     "metadata": {},
     "output_type": "execute_result"
    }
   ],
   "source": [
    "data_url"
   ]
  },
  {
   "cell_type": "code",
   "execution_count": null,
   "id": "fd441eaf-474d-42a0-b568-a32a7bb5b4e6",
   "metadata": {},
   "outputs": [],
   "source": []
  }
 ],
 "metadata": {
  "kernelspec": {
   "display_name": "Python 3 (ipykernel)",
   "language": "python",
   "name": "python3"
  },
  "language_info": {
   "codemirror_mode": {
    "name": "ipython",
    "version": 3
   },
   "file_extension": ".py",
   "mimetype": "text/x-python",
   "name": "python",
   "nbconvert_exporter": "python",
   "pygments_lexer": "ipython3",
   "version": "3.9.7"
  }
 },
 "nbformat": 4,
 "nbformat_minor": 5
}
