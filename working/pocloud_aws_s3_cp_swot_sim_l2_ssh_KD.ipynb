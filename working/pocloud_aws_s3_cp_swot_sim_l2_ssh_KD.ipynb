{
 "cells": [
  {
   "cell_type": "code",
   "execution_count": 1,
   "id": "3249b2d5-bd42-4929-b23e-fc6ee517db13",
   "metadata": {},
   "outputs": [
    {
     "name": "stdout",
     "output_type": "stream",
     "text": [
      "1\n"
     ]
    }
   ],
   "source": [
    "cat ~/.netrc | grep 'urs.earthdata.nasa.gov' | wc -l"
   ]
  },
  {
   "cell_type": "markdown",
   "id": "cb6a0bd3-c7ed-450d-a56a-01e38c41855a",
   "metadata": {},
   "source": [
    "**Now you should be able to use the aws cli from Jupyter.** \n",
    "\n",
    "(Note that IPython environment variables behave like they do in the shell, for the most part.)"
   ]
  },
  {
   "cell_type": "code",
   "execution_count": 2,
   "id": "e37f6d37-ad24-4122-bcd4-b0a116ae288b",
   "metadata": {},
   "outputs": [
    {
     "data": {
      "text/plain": [
       "s3fs.core.S3FileSystem"
      ]
     },
     "execution_count": 2,
     "metadata": {},
     "output_type": "execute_result"
    }
   ],
   "source": [
    "import os\n",
    "import s3fs\n",
    "import requests\n",
    "import numpy as np\n",
    "import xarray as xr\n",
    "import matplotlib.pyplot as plt\n",
    "\n",
    "def begin_s3_direct_access(url: str=\"https://archive.podaac.earthdata.nasa.gov/s3credentials\"):\n",
    "    response = requests.get(url).json()\n",
    "    return s3fs.S3FileSystem(key=response['accessKeyId'],\n",
    "                             secret=response['secretAccessKey'],\n",
    "                             token=response['sessionToken'],\n",
    "                             client_kwargs={'region_name':'us-west-2'})\n",
    "\n",
    "fs = begin_s3_direct_access()\n",
    "\n",
    "type(fs)"
   ]
  },
  {
   "cell_type": "code",
   "execution_count": 3,
   "id": "7442c417-ba4a-4e73-8101-5f750a617510",
   "metadata": {},
   "outputs": [
    {
     "data": {
      "text/plain": [
       "28"
      ]
     },
     "execution_count": 3,
     "metadata": {},
     "output_type": "execute_result"
    }
   ],
   "source": [
    "ShortName = \"SWOT_SIMULATED_L2_KARIN_SSH_ECCO_LLC4320_CALVAL_V1\"\n",
    "\n",
    "ssh_Files = fs.glob(os.path.join(\"podaac-ops-cumulus-protected/\", ShortName, \"SWOT_L2_LR_SSH_Expert_001_*.nc\"))\n",
    "\n",
    "len(ssh_Files)"
   ]
  },
  {
   "cell_type": "code",
   "execution_count": 4,
   "id": "3ca256dc-12d4-4486-95f5-1bf2f6025526",
   "metadata": {},
   "outputs": [
    {
     "name": "stdout",
     "output_type": "stream",
     "text": [
      "<xarray.DataArray 'simulated_true_ssh_karin' (num_lines: 276276, num_pixels: 71)>\n",
      "dask.array<concatenate, shape=(276276, 71), dtype=float64, chunksize=(9868, 71), chunktype=numpy.ndarray>\n",
      "Coordinates:\n",
      "    latitude         (num_lines, num_pixels) float64 dask.array<chunksize=(9868, 71), meta=np.ndarray>\n",
      "    longitude        (num_lines, num_pixels) float64 dask.array<chunksize=(9868, 71), meta=np.ndarray>\n",
      "    latitude_nadir   (num_lines) float64 dask.array<chunksize=(9868,), meta=np.ndarray>\n",
      "    longitude_nadir  (num_lines) float64 dask.array<chunksize=(9868,), meta=np.ndarray>\n",
      "Dimensions without coordinates: num_lines, num_pixels\n",
      "Attributes:\n",
      "    long_name:      sea surface height\n",
      "    standard_name:  sea surface height above reference ellipsoid\n",
      "    units:          m\n",
      "    valid_min:      [-15000000]\n",
      "    valid_max:      [150000000]\n",
      "    comment:        Height of the sea surface free of measurement errors.\n"
     ]
    }
   ],
   "source": [
    "ssh_Dataset = xr.open_mfdataset(\n",
    "    paths=[fs.open(f) for f in ssh_Files],\n",
    "    engine=\"h5netcdf\",\n",
    "    combine=\"nested\",\n",
    "    concat_dim=\"num_lines\",\n",
    "    mask_and_scale=True,\n",
    "    decode_cf=True,\n",
    "    data_vars=[\"simulated_true_ssh_karin\"],\n",
    ")\n",
    "\n",
    "print(ssh_Dataset.simulated_true_ssh_karin)"
   ]
  },
  {
   "cell_type": "code",
   "execution_count": 5,
   "id": "d78504ed-5807-4da7-a2b8-e7b1f3aa7959",
   "metadata": {},
   "outputs": [],
   "source": [
    "sla = ssh_Dataset['simulated_true_ssh_karin']\n",
    "lat = ssh_Dataset['latitude']\n",
    "lon = ssh_Dataset['longitude']"
   ]
  },
  {
   "cell_type": "code",
   "execution_count": 6,
   "id": "f07a89d8-406a-4617-9b12-ad9c30cb45f7",
   "metadata": {},
   "outputs": [
    {
     "data": {
      "image/png": "[encoded data removed]",
      "text/plain": [
       "<Figure size 1296x504 with 2 Axes>"
      ]
     },
     "metadata": {
      "needs_background": "light"
     },
     "output_type": "display_data"
    }
   ],
   "source": [
    "sla.plot(x=\"longitude\", y=\"latitude\", cmap=\"jet\", figsize=(18,7))\n",
    "plt.xlim(70, 80)\n",
    "plt.ylim(-10, 10)\n",
    "plt.show()"
   ]
  },
  {
   "cell_type": "code",
   "execution_count": 1,
   "id": "e51c6fe7-60ff-4c0b-af7b-88c860bda960",
   "metadata": {},
   "outputs": [
    {
     "ename": "NameError",
     "evalue": "name 'sla' is not defined",
     "output_type": "error",
     "traceback": [
      "\u001b[0;31m---------------------------------------------------------------------------\u001b[0m",
      "\u001b[0;31mNameError\u001b[0m                                 Traceback (most recent call last)",
      "\u001b[0;32m/tmp/ipykernel_2542/1635703315.py\u001b[0m in \u001b[0;36m<module>\u001b[0;34m\u001b[0m\n\u001b[0;32m----> 1\u001b[0;31m \u001b[0msla\u001b[0m\u001b[0;34m.\u001b[0m\u001b[0mplot\u001b[0m\u001b[0;34m(\u001b[0m\u001b[0mx\u001b[0m\u001b[0;34m=\u001b[0m\u001b[0;34m\"longitude\"\u001b[0m\u001b[0;34m,\u001b[0m \u001b[0my\u001b[0m\u001b[0;34m=\u001b[0m\u001b[0;34m\"latitude\"\u001b[0m\u001b[0;34m)\u001b[0m\u001b[0;34m\u001b[0m\u001b[0;34m\u001b[0m\u001b[0m\n\u001b[0m",
      "\u001b[0;31mNameError\u001b[0m: name 'sla' is not defined"
     ]
    }
   ],
   "source": [
    "sla.plot(x=\"longitude\", y=\"latitude\")"
   ]
  },
  {
   "cell_type": "code",
   "execution_count": null,
   "id": "a73b9b60-6263-4939-8808-aea267194cdf",
   "metadata": {},
   "outputs": [],
   "source": []
  }
 ],
 "metadata": {
  "kernelspec": {
   "display_name": "Python 3 (ipykernel)",
   "language": "python",
   "name": "python3"
  },
  "language_info": {
   "codemirror_mode": {
    "name": "ipython",
    "version": 3
   },
   "file_extension": ".py",
   "mimetype": "text/x-python",
   "name": "python",
   "nbconvert_exporter": "python",
   "pygments_lexer": "ipython3",
   "version": "3.9.7"
  }
 },
 "nbformat": 4,
 "nbformat_minor": 5
}
